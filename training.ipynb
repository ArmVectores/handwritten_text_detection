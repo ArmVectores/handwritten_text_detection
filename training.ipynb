{
 "cells": [
  {
   "cell_type": "code",
   "execution_count": null,
   "id": "7b911d3b-c173-4eb7-8534-6a8bd23233cf",
   "metadata": {},
   "outputs": [],
   "source": [
    "!git clone https://huggingface.co/datasets/armvectores/handwritten_text_detection\n",
    "#move project file to handwritten_text_detection folder"
   ]
  },
  {
   "cell_type": "code",
   "execution_count": null,
   "id": "41c42886-1901-4872-870a-202792b1362c",
   "metadata": {
    "tags": []
   },
   "outputs": [],
   "source": [
    "from ultralytics import YOLO # loading YOLO"
   ]
  },
  {
   "cell_type": "code",
   "execution_count": null,
   "id": "c0c73439-f337-45d8-be62-bee604799e26",
   "metadata": {
    "tags": []
   },
   "outputs": [],
   "source": [
    "model = YOLO('yolov8n.pt') # Loading pre-trained model for training"
   ]
  },
  {
   "cell_type": "code",
   "execution_count": null,
   "id": "33557a11-3ab2-4dbc-bbe1-44bf6871da9c",
   "metadata": {
    "tags": []
   },
   "outputs": [],
   "source": [
    "model.train(data='data.yaml', epochs=100, name=\"100 epochs\")"
   ]
  },
  {
   "cell_type": "code",
   "execution_count": null,
   "id": "f0d8cbba-4517-4283-af75-38751b1df3ee",
   "metadata": {
    "tags": []
   },
   "outputs": [],
   "source": [
    "model.predict( source=\"test/images\", save=True, show_labels=False, show_conf=False, conf=0.3)"
   ]
  },
  {
   "cell_type": "code",
   "execution_count": null,
   "id": "0c4d8a02-28be-45fe-bc2a-f82195e8ab8e",
   "metadata": {
    "tags": []
   },
   "outputs": [],
   "source": [
    "metrics = model.val()  # evaluate model performance on the validation set"
   ]
  }
 ],
 "metadata": {
  "kernelspec": {
   "display_name": "project",
   "language": "python",
   "name": "project"
  },
  "language_info": {
   "codemirror_mode": {
    "name": "ipython",
    "version": 3
   },
   "file_extension": ".py",
   "mimetype": "text/x-python",
   "name": "python",
   "nbconvert_exporter": "python",
   "pygments_lexer": "ipython3",
   "version": "3.10.14"
  }
 },
 "nbformat": 4,
 "nbformat_minor": 5
}
